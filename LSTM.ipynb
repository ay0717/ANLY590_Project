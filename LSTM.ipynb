{
 "cells": [
  {
   "cell_type": "code",
   "execution_count": 1,
   "metadata": {
    "id": "bbBlsEINZo64"
   },
   "outputs": [],
   "source": [
    "import torch\n",
    "import torch.nn as nn\n",
    "import torch.optim as optim\n",
    "import torch.nn.functional as F\n",
    "import torchtext\n",
    "from torchtext import data\n",
    "from torchtext import datasets\n",
    "import collections\n",
    "import math"
   ]
  },
  {
   "cell_type": "code",
   "execution_count": 2,
   "metadata": {
    "id": "iXzFZ58RZo64"
   },
   "outputs": [],
   "source": [
    "import re\n",
    "import spacy\n",
    "\n",
    "nlp = spacy.load('en')\n",
    "MAX_CHARS = 20000\n",
    "def tokenizer(comment):\n",
    "    comment = comment.lower()\n",
    "    comment = re.sub(r\"[\\*\\\"“”\\n\\\\…\\+\\-\\/\\=\\(\\)‘•:\\[\\]\\|;]\", \" \", str(comment))\n",
    "    comment = re.sub(r\"[ ]+\", \" \", comment)\n",
    "    comment = re.sub(r\"\\!+\", \"!\", comment)\n",
    "    comment = re.sub(r\"\\,+\", \",\", comment)\n",
    "    comment = re.sub(r\"\\?+\", \"?\", comment)\n",
    "    if (len(comment) > MAX_CHARS):\n",
    "        comment = comment[:MAX_CHARS]\n",
    "    return [x.text for x in nlp.tokenizer(comment) if x.text != \" \"]"
   ]
  },
  {
   "cell_type": "code",
   "execution_count": 3,
   "metadata": {
    "id": "sZ8siahOZo64"
   },
   "outputs": [],
   "source": [
    "TEXT = data.Field(tokenize=tokenizer, include_lengths = True)\n",
    "LABEL = data.LabelField(dtype=torch.float)\n",
    "\n",
    "train_data, test_data = data.TabularDataset.splits(path='./', format='csv',train='train.csv', test='test.csv', fields=[('text', TEXT), ('label', LABEL)])"
   ]
  },
  {
   "cell_type": "code",
   "execution_count": 4,
   "metadata": {
    "id": "ivHxoN1gZo64"
   },
   "outputs": [],
   "source": [
    "train_data, valid_data = train_data.split()"
   ]
  },
  {
   "cell_type": "code",
   "execution_count": 5,
   "metadata": {
    "colab": {
     "base_uri": "https://localhost:8080/"
    },
    "id": "pmIbkzkhZo64",
    "outputId": "eb46159b-10a5-4ff0-dc1b-5b3216f034a1"
   },
   "outputs": [
    {
     "name": "stderr",
     "output_type": "stream",
     "text": [
      "  0%|          | 0/87708 [00:00<?, ?it/s]Skipping token b'87708' with 1-dimensional vector [b'300']; likely a header\n",
      "100%|█████████▉| 87287/87708 [00:09<00:00, 9158.07it/s]\n"
     ]
    }
   ],
   "source": [
    "embedding = torchtext.vocab.Vectors('quora.300d.txt')\n",
    "\n",
    "TEXT.build_vocab(train_data, \n",
    "                 vectors = embedding,\n",
    "                 unk_init = torch.Tensor.normal_)\n",
    "\n",
    "LABEL.build_vocab(train_data)"
   ]
  },
  {
   "cell_type": "code",
   "execution_count": 7,
   "metadata": {
    "id": "x5UqEKJyZo64"
   },
   "outputs": [],
   "source": [
    "BATCH_SIZE = 2048\n",
    "\n",
    "if torch.cuda.is_available():\n",
    "    torch.cuda.set_device(0)\n",
    "    device = torch.device('cuda')\n",
    "else:\n",
    "    device = torch.device('cpu')\n",
    "    \n",
    "train_iterator, valid_iterator, test_iterator = data.BucketIterator.splits(\n",
    "    (train_data, valid_data, test_data), \n",
    "    batch_size = BATCH_SIZE, \n",
    "    device = device,\n",
    "    sort_within_batch = True,\n",
    "    sort_key=lambda x: len(x.text))"
   ]
  },
  {
   "cell_type": "code",
   "execution_count": 15,
   "metadata": {
    "colab": {
     "base_uri": "https://localhost:8080/"
    },
    "id": "4R-zgk8abnmC",
    "outputId": "831db566-b70d-48aa-f6fb-3f52a1adc94e"
   },
   "outputs": [
    {
     "data": {
      "text/plain": [
       "device(type='cuda')"
      ]
     },
     "execution_count": 15,
     "metadata": {
      "tags": []
     },
     "output_type": "execute_result"
    }
   ],
   "source": [
    "device"
   ]
  },
  {
   "cell_type": "code",
   "execution_count": 23,
   "metadata": {
    "id": "JYXBF4omZo64"
   },
   "outputs": [],
   "source": [
    "class RNN(nn.Module):\n",
    "    def __init__(self, vocab_size, embedding_dim, hidden_dim, output_dim, n_layers, \n",
    "                 bidirectional, dropout, pad_idx):\n",
    "        \n",
    "        super().__init__()\n",
    "        \n",
    "        self.embedding = nn.Embedding(vocab_size, embedding_dim, padding_idx = pad_idx)\n",
    "        \n",
    "        self.rnn = nn.LSTM(embedding_dim, \n",
    "                           hidden_dim, \n",
    "                           num_layers=n_layers, \n",
    "                           bidirectional=bidirectional, \n",
    "                           dropout=dropout)\n",
    "        \n",
    "        self.fc = nn.Linear(hidden_dim * 2, output_dim)\n",
    "        \n",
    "        self.dropout = nn.Dropout(dropout)\n",
    "        \n",
    "    def forward(self, text, text_lengths):\n",
    "        \n",
    "        #text = [sent len, batch size]\n",
    "        \n",
    "        embedded = self.dropout(self.embedding(text))\n",
    "        \n",
    "        #embedded = [sent len, batch size, emb dim]\n",
    "        \n",
    "        #pack sequence\n",
    "        packed_embedded = nn.utils.rnn.pack_padded_sequence(embedded, text_lengths.cpu())\n",
    "        \n",
    "        packed_output, (hidden, cell) = self.rnn(packed_embedded)\n",
    "        \n",
    "        #unpack sequence\n",
    "        output, output_lengths = nn.utils.rnn.pad_packed_sequence(packed_output)\n",
    "        \n",
    "        hidden = self.dropout(torch.cat((hidden[-2,:,:], hidden[-1,:,:]), dim = 1))\n",
    "                \n",
    "        #hidden = [batch size, hid dim * num directions]\n",
    "            \n",
    "        return self.fc(hidden)"
   ]
  },
  {
   "cell_type": "code",
   "execution_count": 24,
   "metadata": {
    "id": "KIh9I9aYZo64"
   },
   "outputs": [],
   "source": [
    "from sklearn.metrics import f1_score\n",
    "from sklearn.metrics import accuracy_score\n",
    "from sklearn.metrics import precision_score\n",
    "from sklearn.metrics import recall_score\n",
    "def metrics(preds, y):\n",
    "    #round predictions to the closest integer\n",
    "    rounded_preds = torch.round(torch.sigmoid(preds))\n",
    "    acc = accuracy_score(y.cpu(), rounded_preds.detach().cpu())\n",
    "    f1 = f1_score(y.cpu(), rounded_preds.detach().cpu())\n",
    "    return acc, f1"
   ]
  },
  {
   "cell_type": "code",
   "execution_count": 25,
   "metadata": {
    "id": "O01es5viZo64"
   },
   "outputs": [],
   "source": [
    "def train_rnn(model, iterator, optimizer, criterion):\n",
    "    \n",
    "    epoch_loss = 0\n",
    "    epoch_acc = 0\n",
    "    epoch_f1 = 0\n",
    "    \n",
    "    model.train()\n",
    "    \n",
    "    for batch in iterator:\n",
    "        \n",
    "        optimizer.zero_grad()\n",
    "        \n",
    "        text, text_lengths = batch.text\n",
    "        \n",
    "        predictions = model(text, text_lengths).squeeze(1)\n",
    "        \n",
    "        loss = criterion(predictions, batch.label)\n",
    "        \n",
    "        acc, f1 = metrics(predictions, batch.label)\n",
    "        \n",
    "        loss.backward()\n",
    "        \n",
    "        optimizer.step()\n",
    "        \n",
    "        epoch_loss += loss.item()\n",
    "        epoch_acc += acc\n",
    "        epoch_f1 += f1\n",
    "        \n",
    "    return epoch_loss / len(iterator), epoch_acc / len(iterator), epoch_f1 / len(iterator)"
   ]
  },
  {
   "cell_type": "code",
   "execution_count": 26,
   "metadata": {
    "id": "Q4q0VWPsZo64"
   },
   "outputs": [],
   "source": [
    "def evaluate_rnn(model, iterator, criterion):\n",
    "    \n",
    "    epoch_loss = 0\n",
    "    epoch_acc = 0\n",
    "    epoch_f1 = 0\n",
    "    \n",
    "    model.eval()\n",
    "    \n",
    "    with torch.no_grad():\n",
    "    \n",
    "        for batch in iterator:\n",
    "\n",
    "            text, text_lengths = batch.text\n",
    "            \n",
    "            predictions = model(text, text_lengths).squeeze(1)\n",
    "            \n",
    "            loss = criterion(predictions, batch.label)\n",
    "            \n",
    "            acc, f1 = metrics(predictions, batch.label)\n",
    "\n",
    "            epoch_loss += loss.item()\n",
    "            epoch_acc += acc\n",
    "            epoch_f1 += f1\n",
    "        \n",
    "    return epoch_loss / len(iterator), epoch_acc / len(iterator), epoch_f1 / len(iterator)"
   ]
  },
  {
   "cell_type": "code",
   "execution_count": 27,
   "metadata": {
    "id": "Dh8l71DAZo64"
   },
   "outputs": [],
   "source": [
    "INPUT_DIM = len(TEXT.vocab)\n",
    "EMBEDDING_DIM = 300\n",
    "HIDDEN_DIM = 256\n",
    "OUTPUT_DIM = 1\n",
    "N_LAYERS = 2\n",
    "BIDIRECTIONAL = True\n",
    "DROPOUT = 0.5\n",
    "PAD_IDX = TEXT.vocab.stoi[TEXT.pad_token]\n",
    "\n",
    "rnn = RNN(INPUT_DIM, \n",
    "            EMBEDDING_DIM, \n",
    "            HIDDEN_DIM, \n",
    "            OUTPUT_DIM, \n",
    "            N_LAYERS, \n",
    "            BIDIRECTIONAL, \n",
    "            DROPOUT, \n",
    "            PAD_IDX)\n",
    "\n",
    "pretrained_embeddings = TEXT.vocab.vectors\n",
    "\n",
    "rnn.embedding.weight.data.copy_(pretrained_embeddings)\n",
    "\n",
    "UNK_IDX = TEXT.vocab.stoi[TEXT.unk_token]\n",
    "\n",
    "rnn.embedding.weight.data[UNK_IDX] = torch.zeros(EMBEDDING_DIM)\n",
    "rnn.embedding.weight.data[PAD_IDX] = torch.zeros(EMBEDDING_DIM)"
   ]
  },
  {
   "cell_type": "code",
   "execution_count": 28,
   "metadata": {
    "id": "avw4uwXNZo64"
   },
   "outputs": [],
   "source": [
    "import torch.optim as optim\n",
    "\n",
    "optimizer = optim.Adam(rnn.parameters())\n",
    "\n",
    "criterion = nn.BCEWithLogitsLoss()\n",
    "\n",
    "rnn = rnn.to(device)\n",
    "criterion = criterion.to(device)"
   ]
  },
  {
   "cell_type": "code",
   "execution_count": 29,
   "metadata": {
    "colab": {
     "base_uri": "https://localhost:8080/"
    },
    "id": "9KyfbxbnZo64",
    "outputId": "b0ee2ff3-11f4-44c8-ee68-7d203cd1d82e"
   },
   "outputs": [
    {
     "name": "stdout",
     "output_type": "stream",
     "text": [
      "Epoch: 1\n",
      "Train Loss: 0.445600124862459\n",
      "Train Acc: 78.9331377461322\n",
      "Train F1: 72.67272712728216\n",
      "Val. Loss: 0.3423773003251929\n",
      "Val. Acc: 85.66043660287083\n",
      "Val. F1: 83.68632253612837\n",
      "Epoch: 2\n",
      "Train Loss: 0.33532633980115256\n",
      "Train Acc: 86.14731671940929\n",
      "Train F1: 83.35259893776634\n",
      "Val. Loss: 0.32182520314266805\n",
      "Val. Acc: 87.84717564507861\n",
      "Val. F1: 84.4434500683961\n",
      "Epoch: 3\n",
      "Train Loss: 0.2995005170504252\n",
      "Train Acc: 88.00843607155416\n",
      "Train F1: 85.3901824552268\n",
      "Val. Loss: 0.2921530274968398\n",
      "Val. Acc: 88.82428016062886\n",
      "Val. F1: 86.93612390274623\n",
      "Epoch: 4\n",
      "Train Loss: 0.29149970014890036\n",
      "Train Acc: 88.59223914381154\n",
      "Train F1: 86.47088415671115\n",
      "Val. Loss: 0.2869210251067814\n",
      "Val. Acc: 89.19822950487013\n",
      "Val. F1: 87.3664720854762\n",
      "Epoch: 5\n",
      "Train Loss: 0.26745831933286457\n",
      "Train Acc: 89.56260988045007\n",
      "Train F1: 87.45310706629891\n",
      "Val. Loss: 0.27172212145830454\n",
      "Val. Acc: 89.54850772171908\n",
      "Val. F1: 86.6502026869321\n",
      "Epoch: 6\n",
      "Train Loss: 0.2546145796775818\n",
      "Train Acc: 90.1201707542194\n",
      "Train F1: 88.26501697058723\n",
      "Val. Loss: 0.2761310284074984\n",
      "Val. Acc: 89.69903985816815\n",
      "Val. F1: 86.92608069644896\n",
      "Epoch: 7\n",
      "Train Loss: 0.2406548731856876\n",
      "Train Acc: 90.75039556962025\n",
      "Train F1: 88.83233539627233\n",
      "Val. Loss: 0.26190610386823354\n",
      "Val. Acc: 90.10568368720095\n",
      "Val. F1: 88.10387976176939\n",
      "Epoch: 8\n",
      "Train Loss: 0.2314741618103451\n",
      "Train Acc: 91.09813697696906\n",
      "Train F1: 89.39130959757937\n",
      "Val. Loss: 0.2692812226320568\n",
      "Val. Acc: 90.19896376238891\n",
      "Val. F1: 88.36045882424834\n",
      "Epoch: 9\n",
      "Train Loss: 0.2183643943733639\n",
      "Train Acc: 91.63307621308017\n",
      "Train F1: 90.14599301710105\n",
      "Val. Loss: 0.2625383091600318\n",
      "Val. Acc: 90.19223929853042\n",
      "Val. F1: 88.18754336158531\n",
      "Epoch: 10\n",
      "Train Loss: 0.20379977226257323\n",
      "Train Acc: 92.26892690752462\n",
      "Train F1: 90.84861827860432\n",
      "Val. Loss: 0.2701112471128765\n",
      "Val. Acc: 89.98304265635679\n",
      "Val. F1: 87.52056739919837\n"
     ]
    }
   ],
   "source": [
    "N_EPOCHS = 10\n",
    "\n",
    "best_valid_f1 = 0\n",
    "\n",
    "for epoch in range(N_EPOCHS):\n",
    "    \n",
    "    train_loss, train_acc, train_f1 = train_rnn(rnn, train_iterator, optimizer, criterion)\n",
    "    valid_loss, valid_acc, valid_f1 = evaluate_rnn(rnn, valid_iterator, criterion)\n",
    "    \n",
    "    if valid_f1 > best_valid_f1:\n",
    "        best_valid_f1 = valid_f1\n",
    "        torch.save(rnn.state_dict(), 'LSTM-model.pt')\n",
    "    \n",
    "    print('Epoch:',epoch+1)\n",
    "    print('Train Loss:',train_loss)\n",
    "    print('Train Acc:',train_acc*100)\n",
    "    print('Train F1:',train_f1*100)\n",
    "    print('Val. Loss:',valid_loss) \n",
    "    print('Val. Acc:',valid_acc*100)\n",
    "    print('Val. F1:',valid_f1*100)"
   ]
  },
  {
   "cell_type": "code",
   "execution_count": 30,
   "metadata": {
    "id": "-yjsnKstZo64"
   },
   "outputs": [],
   "source": [
    "def predict(model, sentence, min_len = 5):\n",
    "    model.eval()\n",
    "    if len(sentence) < min_len:\n",
    "        sentence += ['<pad>'] * (min_len - len(sentence))\n",
    "    indexed = [TEXT.vocab.stoi[t] for t in sentence]\n",
    "    length = [len(indexed)]\n",
    "    tensor = torch.LongTensor(indexed).to(device)\n",
    "    tensor = tensor.unsqueeze(1)\n",
    "    length_tensor = torch.LongTensor(length).to(device)\n",
    "    prediction = torch.sigmoid(model(tensor, length_tensor)).item()\n",
    "    if prediction >= 0.5:\n",
    "        idx = 1\n",
    "    else:\n",
    "        idx = 0\n",
    "    return idx"
   ]
  },
  {
   "cell_type": "code",
   "execution_count": 31,
   "metadata": {
    "colab": {
     "base_uri": "https://localhost:8080/"
    },
    "id": "UVzRm-m5Zo64",
    "outputId": "393edcc0-1e37-4ab8-b679-4f82b24222db"
   },
   "outputs": [
    {
     "name": "stdout",
     "output_type": "stream",
     "text": [
      "0.9014973394381883\n",
      "0.9014915858898978\n"
     ]
    }
   ],
   "source": [
    "torch.cuda.empty_cache()\n",
    "rnn.load_state_dict(torch.load('LSTM-model.pt'))\n",
    "correct = 0\n",
    "total = 0\n",
    "preds = []\n",
    "labels = []\n",
    "for e in test_data.examples:\n",
    "    pred = predict(rnn, e.text)\n",
    "    preds.append(pred)\n",
    "    labels.append(LABEL.vocab.stoi[e.label])\n",
    "    if LABEL.vocab.stoi[e.label] == pred:\n",
    "        correct += 1\n",
    "    total += 1\n",
    "    \n",
    "f1 = f1_score(labels, preds, average='weighted')\n",
    "print(correct/total)\n",
    "print(f1)"
   ]
  },
  {
   "cell_type": "code",
   "execution_count": 32,
   "metadata": {
    "id": "LXoVYXULaCl0"
   },
   "outputs": [],
   "source": [
    "from sklearn.metrics import confusion_matrix, cohen_kappa_score"
   ]
  },
  {
   "cell_type": "code",
   "execution_count": 33,
   "metadata": {
    "id": "Cdr6yozTaCoN"
   },
   "outputs": [],
   "source": [
    "from sklearn.metrics import plot_confusion_matrix"
   ]
  },
  {
   "cell_type": "code",
   "execution_count": 34,
   "metadata": {
    "id": "W6TMufzhaCqt"
   },
   "outputs": [],
   "source": [
    "import matplotlib.pyplot as plt"
   ]
  },
  {
   "cell_type": "code",
   "execution_count": 35,
   "metadata": {
    "id": "-IYhQjaPaCuC"
   },
   "outputs": [],
   "source": [
    "import numpy as np"
   ]
  },
  {
   "cell_type": "code",
   "execution_count": 36,
   "metadata": {
    "id": "QCD0NUoPaCvg"
   },
   "outputs": [],
   "source": [
    "def plot_confusion_matrix(cm, classes,\n",
    "                          normalize=False,\n",
    "                          title='Confusion matrix',\n",
    "                          cmap=plt.cm.Blues):\n",
    "    \"\"\"\n",
    "    This function prints and plots the confusion matrix.\n",
    "    Normalization can be applied by setting `normalize=True`.\n",
    "    \"\"\"\n",
    "    import itertools\n",
    "    if normalize:\n",
    "        cm = cm.astype('float') / cm.sum(axis=1)[:, np.newaxis]\n",
    "        print(\"Normalized confusion matrix\")\n",
    "    else:\n",
    "        print('Confusion matrix, without normalization')\n",
    "\n",
    "    print(cm)\n",
    "\n",
    "    plt.imshow(cm, interpolation='nearest', cmap=cmap)\n",
    "    plt.title(title)\n",
    "    plt.colorbar()\n",
    "    tick_marks = np.arange(len(classes))\n",
    "    plt.xticks(tick_marks, classes, rotation=45)\n",
    "    plt.yticks(tick_marks, classes)\n",
    "\n",
    "    fmt = '.2f' if normalize else 'd'\n",
    "    thresh = cm.max() / 2.\n",
    "    for i, j in itertools.product(range(cm.shape[0]), range(cm.shape[1])):\n",
    "        plt.text(j, i, format(cm[i, j], fmt),\n",
    "                 horizontalalignment=\"center\",\n",
    "                 color=\"white\" if cm[i, j] > thresh else \"black\")\n",
    "\n",
    "    plt.ylabel('Actual')\n",
    "    plt.xlabel('Predicted')\n",
    "    plt.tight_layout()"
   ]
  },
  {
   "cell_type": "code",
   "execution_count": 37,
   "metadata": {
    "id": "THCDQJckaCx9"
   },
   "outputs": [],
   "source": [
    "cnf_matrix = confusion_matrix(labels, preds, labels=[0, 1])"
   ]
  },
  {
   "cell_type": "code",
   "execution_count": 38,
   "metadata": {
    "colab": {
     "base_uri": "https://localhost:8080/",
     "height": 348
    },
    "id": "7mxG_XdYaC0S",
    "outputId": "2616db57-fa32-4eea-f627-8df94d386352"
   },
   "outputs": [
    {
     "name": "stdout",
     "output_type": "stream",
     "text": [
      "Confusion matrix, without normalization\n",
      "[[14643  1383]\n",
      " [ 1801 14497]]\n"
     ]
    },
    {
     "data": {
      "image/png": "[encoded data removed]",
      "text/plain": [
       "<Figure size 432x288 with 2 Axes>"
      ]
     },
     "metadata": {
      "needs_background": "light",
      "tags": []
     },
     "output_type": "display_data"
    }
   ],
   "source": [
    "plt.grid(False)\n",
    "plot_confusion_matrix(cnf_matrix, classes=['sincere', 'insincere'], \n",
    "                      title='CNN Classifier: \\nConfusion matrix')"
   ]
  },
  {
   "cell_type": "code",
   "execution_count": 39,
   "metadata": {
    "colab": {
     "base_uri": "https://localhost:8080/"
    },
    "id": "vFD1nyBjaC29",
    "outputId": "a5770e80-71df-4bbc-9f2d-b525924f3441"
   },
   "outputs": [
    {
     "name": "stdout",
     "output_type": "stream",
     "text": [
      "              precision    recall  f1-score   support\n",
      "\n",
      "     sincere       0.89      0.91      0.90     16026\n",
      "   insincere       0.91      0.89      0.90     16298\n",
      "\n",
      "    accuracy                           0.90     32324\n",
      "   macro avg       0.90      0.90      0.90     32324\n",
      "weighted avg       0.90      0.90      0.90     32324\n",
      "\n"
     ]
    }
   ],
   "source": [
    "from sklearn.metrics import classification_report as clsr\n",
    "print(clsr(labels, preds, target_names=['sincere', 'insincere']))"
   ]
  },
  {
   "cell_type": "code",
   "execution_count": 39,
   "metadata": {
    "id": "vBRttJ6raDCs"
   },
   "outputs": [],
   "source": []
  },
  {
   "cell_type": "code",
   "execution_count": 40,
   "metadata": {
    "id": "ebxqherEZo64"
   },
   "outputs": [],
   "source": [
    "def predict_class(model, sentence, min_len = 5):\n",
    "    model.eval()\n",
    "    tokenized = [tok for tok in tokenizer(sentence)]\n",
    "    if len(tokenized) < min_len:\n",
    "        tokenized += ['<pad>'] * (min_len - len(tokenized))\n",
    "    indexed = []\n",
    "    for t in tokenized:\n",
    "        if t in TEXT.vocab.stoi:\n",
    "            indexed.append(TEXT.vocab.stoi[t])\n",
    "        else:\n",
    "            indexed.append(0)\n",
    "    length = [len(indexed)]\n",
    "    tensor = torch.LongTensor(indexed).to(device)\n",
    "    tensor = tensor.unsqueeze(1)\n",
    "    length_tensor = torch.LongTensor(length).to(device)\n",
    "    prediction = torch.sigmoid(model(tensor, length_tensor)).item()\n",
    "    if prediction >= 0.5:\n",
    "        idx = 1\n",
    "    else:\n",
    "        idx = 0\n",
    "    label = LABEL.vocab.itos[1]\n",
    "    if label == '1':\n",
    "        return \"{0}%\".format(prediction*100)\n",
    "    else:\n",
    "        return \"{0}%\".format((1-prediction)*100)"
   ]
  },
  {
   "cell_type": "code",
   "execution_count": 41,
   "metadata": {
    "colab": {
     "base_uri": "https://localhost:8080/",
     "height": 35
    },
    "id": "OmXh605IZo64",
    "outputId": "a070740d-0bf7-43c4-e73e-daf2b87f5a51"
   },
   "outputs": [
    {
     "data": {
      "application/vnd.google.colaboratory.intrinsic+json": {
       "type": "string"
      },
      "text/plain": [
       "'57.965898513793945%'"
      ]
     },
     "execution_count": 41,
     "metadata": {
      "tags": []
     },
     "output_type": "execute_result"
    }
   ],
   "source": [
    "predict_class(rnn, \"Why cant you just die?\")"
   ]
  },
  {
   "cell_type": "code",
   "execution_count": null,
   "metadata": {
    "id": "JgE-mOIVZo65"
   },
   "outputs": [],
   "source": [
    "\"\"\"cpu = torch.device('cpu')\n",
    "rnn_cpu = rnn.to(cpu)\n",
    "torch.save(rnn_cpu.state_dict(), 'LSTM-model-cpu.pt')\"\"\""
   ]
  },
  {
   "cell_type": "code",
   "execution_count": null,
   "metadata": {
    "id": "ukgdai2WZo65"
   },
   "outputs": [],
   "source": []
  }
 ],
 "metadata": {
  "accelerator": "GPU",
  "colab": {
   "collapsed_sections": [],
   "name": "A6-LSTM.ipynb",
   "provenance": []
  },
  "kernelspec": {
   "display_name": "Python 3",
   "language": "python",
   "name": "python3"
  },
  "language_info": {
   "codemirror_mode": {
    "name": "ipython",
    "version": 3
   },
   "file_extension": ".py",
   "mimetype": "text/x-python",
   "name": "python",
   "nbconvert_exporter": "python",
   "pygments_lexer": "ipython3",
   "version": "3.7.4"
  }
 },
 "nbformat": 4,
 "nbformat_minor": 1
}
