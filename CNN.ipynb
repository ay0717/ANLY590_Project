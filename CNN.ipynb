{
 "cells": [
  {
   "cell_type": "code",
   "execution_count": 2,
   "metadata": {
    "id": "dBAG3R9_HPJE"
   },
   "outputs": [],
   "source": [
    "import gzip\n",
    "import gensim \n",
    "from gensim.models import Word2Vec\n",
    "from gensim.models import KeyedVectors"
   ]
  },
  {
   "cell_type": "code",
   "execution_count": 3,
   "metadata": {
    "id": "U4PyEIA5HPJE"
   },
   "outputs": [],
   "source": [
    "import torch\n",
    "import torch.nn as nn\n",
    "import torch.optim as optim\n",
    "import torch.nn.functional as F\n",
    "import torchtext\n",
    "from torchtext import data\n",
    "from torchtext import datasets\n",
    "import collections\n",
    "import math"
   ]
  },
  {
   "cell_type": "code",
   "execution_count": 4,
   "metadata": {
    "id": "MRCghh1aHPJE"
   },
   "outputs": [],
   "source": [
    "import re\n",
    "import spacy\n",
    "\n",
    "nlp = spacy.load('en')\n",
    "MAX_CHARS = 20000\n",
    "def tokenizer(comment):\n",
    "    comment = comment.lower()\n",
    "    comment = re.sub(r\"[\\*\\\"“”\\n\\\\…\\+\\-\\/\\=\\(\\)‘•:\\[\\]\\|;]\", \" \", str(comment))\n",
    "    comment = re.sub(r\"[ ]+\", \" \", comment)\n",
    "    comment = re.sub(r\"\\!+\", \"!\", comment)\n",
    "    comment = re.sub(r\"\\,+\", \",\", comment)\n",
    "    comment = re.sub(r\"\\?+\", \"?\", comment)\n",
    "    if (len(comment) > MAX_CHARS):\n",
    "        comment = comment[:MAX_CHARS]\n",
    "    return [x.text for x in nlp.tokenizer(comment) if x.text != \" \"]"
   ]
  },
  {
   "cell_type": "code",
   "execution_count": 5,
   "metadata": {
    "id": "tDf3_vgLHPJE"
   },
   "outputs": [],
   "source": [
    "TEXT = data.Field(tokenize=tokenizer)\n",
    "LABEL = data.LabelField(dtype=torch.float)\n",
    "\n",
    "train_data, test_data = data.TabularDataset.splits(path='./', format='csv',train='train.csv', test='test.csv', fields=[('text', TEXT), ('label', LABEL)])"
   ]
  },
  {
   "cell_type": "code",
   "execution_count": 6,
   "metadata": {
    "id": "GE-3EuExHPJE"
   },
   "outputs": [],
   "source": [
    "train_data, valid_data = train_data.split()"
   ]
  },
  {
   "cell_type": "code",
   "execution_count": 7,
   "metadata": {
    "colab": {
     "base_uri": "https://localhost:8080/"
    },
    "id": "AdiJCA2lHPJE",
    "outputId": "e15f6e4c-1841-4f6f-cf4d-4d30f08e9812"
   },
   "outputs": [
    {
     "name": "stderr",
     "output_type": "stream",
     "text": [
      "  0%|          | 0/87708 [00:00<?, ?it/s]Skipping token b'87708' with 1-dimensional vector [b'300']; likely a header\n",
      "100%|█████████▉| 87492/87708 [00:09<00:00, 9089.82it/s]\n"
     ]
    }
   ],
   "source": [
    "embedding = torchtext.vocab.Vectors('quora.300d.txt')\n",
    "\n",
    "TEXT.build_vocab(train_data, \n",
    "                 vectors = embedding,\n",
    "                 unk_init = torch.Tensor.normal_)\n",
    "\n",
    "LABEL.build_vocab(train_data)"
   ]
  },
  {
   "cell_type": "code",
   "execution_count": 8,
   "metadata": {
    "id": "0Ct0qIpZHPJE"
   },
   "outputs": [],
   "source": [
    "BATCH_SIZE = 2048\n",
    "\n",
    "if torch.cuda.is_available():\n",
    "    torch.cuda.set_device(0)\n",
    "    device = torch.device('cuda')\n",
    "else:\n",
    "    device = torch.device('cpu')\n",
    "    \n",
    "train_iterator, valid_iterator, test_iterator = data.BucketIterator.splits(\n",
    "    (train_data, valid_data, test_data), \n",
    "    batch_size = BATCH_SIZE, \n",
    "    device = device,\n",
    "    sort=False)"
   ]
  },
  {
   "cell_type": "code",
   "execution_count": 9,
   "metadata": {
    "colab": {
     "base_uri": "https://localhost:8080/"
    },
    "id": "w3xdiffsSJHW",
    "outputId": "02f477e3-9cc2-4b20-fd71-e9f82ce053e6"
   },
   "outputs": [
    {
     "data": {
      "text/plain": [
       "device(type='cuda')"
      ]
     },
     "execution_count": 9,
     "metadata": {
      "tags": []
     },
     "output_type": "execute_result"
    }
   ],
   "source": [
    "device"
   ]
  },
  {
   "cell_type": "code",
   "execution_count": 10,
   "metadata": {
    "id": "2q1mYAnVHPJE"
   },
   "outputs": [],
   "source": [
    "def init_weights(m):\n",
    "    if type(m) == nn.Linear:\n",
    "        nn.init.xavier_uniform_(m.weight)\n",
    "        m.bias.data.fill_(0.01)"
   ]
  },
  {
   "cell_type": "code",
   "execution_count": 11,
   "metadata": {
    "id": "qiVxAkrXHPJE"
   },
   "outputs": [],
   "source": [
    "class CNN(nn.Module):\n",
    "    def __init__(self, vocab_size, embedding_dim, n_filters, filter_sizes, output_dim, \n",
    "                 dropout, pad_idx):\n",
    "        \n",
    "        super().__init__()\n",
    "                \n",
    "        self.embedding = nn.Embedding(vocab_size, embedding_dim, padding_idx = pad_idx)\n",
    "        \n",
    "        self.convs = nn.ModuleList([\n",
    "                                    nn.Conv2d(in_channels = 1, \n",
    "                                              out_channels = n_filters, \n",
    "                                              kernel_size = (fs, embedding_dim)) \n",
    "                                    for fs in filter_sizes\n",
    "                                    ])\n",
    "        \n",
    "        self.fc = nn.Linear(len(filter_sizes) * n_filters, output_dim)\n",
    "        \n",
    "        self.apply(init_weights)\n",
    "        \n",
    "        self.dropout = nn.Dropout(dropout)\n",
    "        \n",
    "    def forward(self, text):\n",
    "        \n",
    "        #text = [sent len, batch size]\n",
    "        \n",
    "        text = text.permute(1, 0)\n",
    "                \n",
    "        #text = [batch size, sent len]\n",
    "        \n",
    "        embedded = self.embedding(text)\n",
    "                \n",
    "        #embedded = [batch size, sent len, emb dim]\n",
    "        \n",
    "        embedded = embedded.unsqueeze(1)\n",
    "        \n",
    "        #embedded = [batch size, 1, sent len, emb dim]\n",
    "        \n",
    "        conved = [F.relu(conv(embedded)).squeeze(3) for conv in self.convs]\n",
    "            \n",
    "        #conved_n = [batch size, n_filters, sent len - filter_sizes[n] + 1]\n",
    "                \n",
    "        pooled = [F.max_pool1d(conv, conv.shape[2]).squeeze(2) for conv in conved]\n",
    "        \n",
    "        #pooled_n = [batch size, n_filters]\n",
    "        \n",
    "        cat = self.dropout(torch.cat(pooled, dim = 1))\n",
    "\n",
    "        #cat = [batch size, n_filters * len(filter_sizes)]\n",
    "            \n",
    "        logits = self.fc(cat)\n",
    "        \n",
    "        return logits"
   ]
  },
  {
   "cell_type": "code",
   "execution_count": 12,
   "metadata": {
    "id": "a61FWGDOHPJE"
   },
   "outputs": [],
   "source": [
    "from sklearn.metrics import f1_score\n",
    "from sklearn.metrics import accuracy_score\n",
    "from sklearn.metrics import precision_score\n",
    "from sklearn.metrics import recall_score\n",
    "def metrics(preds, y):\n",
    "    #round predictions to the closest integer\n",
    "    rounded_preds = torch.round(torch.sigmoid(preds))\n",
    "    acc = accuracy_score(y.cpu(), rounded_preds.detach().cpu())\n",
    "    f1 = f1_score(y.cpu(), rounded_preds.detach().cpu())\n",
    "    return acc, f1"
   ]
  },
  {
   "cell_type": "code",
   "execution_count": 13,
   "metadata": {
    "id": "JeKx70X6HPJE"
   },
   "outputs": [],
   "source": [
    "def train_cnn(model, iterator, optimizer, criterion):\n",
    "    \n",
    "    epoch_loss = 0\n",
    "    epoch_acc = 0\n",
    "    epoch_f1 = 0\n",
    "    \n",
    "    model.train()\n",
    "    \n",
    "    for batch in iterator:\n",
    "        \n",
    "        optimizer.zero_grad()\n",
    "        \n",
    "        predictions = model(batch.text).squeeze(1)\n",
    "        \n",
    "        loss = criterion(predictions, batch.label)\n",
    "        \n",
    "        acc, f1 = metrics(predictions, batch.label)\n",
    "        \n",
    "        loss.backward()\n",
    "        \n",
    "        optimizer.step()\n",
    "        \n",
    "        epoch_loss += loss.item()\n",
    "        epoch_acc += acc\n",
    "        epoch_f1 += f1\n",
    "        \n",
    "    return epoch_loss / len(iterator), epoch_acc / len(iterator), epoch_f1 / len(iterator)"
   ]
  },
  {
   "cell_type": "code",
   "execution_count": 14,
   "metadata": {
    "id": "mGBftxFMHPJE"
   },
   "outputs": [],
   "source": [
    "def evaluate_cnn(model, iterator, criterion):\n",
    "    \n",
    "    epoch_loss = 0\n",
    "    epoch_acc = 0\n",
    "    epoch_f1 = 0\n",
    "    \n",
    "    model.eval()\n",
    "    \n",
    "    with torch.no_grad():\n",
    "    \n",
    "        for batch in iterator:\n",
    "\n",
    "            predictions = model(batch.text).squeeze(1)\n",
    "            \n",
    "            loss = criterion(predictions, batch.label)\n",
    "            \n",
    "            acc, f1 = metrics(predictions, batch.label)\n",
    "\n",
    "            epoch_loss += loss.item()\n",
    "            epoch_acc += acc\n",
    "            epoch_f1 += f1\n",
    "        \n",
    "    return epoch_loss / len(iterator), epoch_acc / len(iterator), epoch_f1 / len(iterator)"
   ]
  },
  {
   "cell_type": "code",
   "execution_count": 15,
   "metadata": {
    "id": "AtdG6Le6HPJE"
   },
   "outputs": [],
   "source": [
    "INPUT_DIM = len(TEXT.vocab)\n",
    "EMBEDDING_DIM = 300\n",
    "N_FILTERS = 100\n",
    "FILTER_SIZES = [3,4,5]\n",
    "OUTPUT_DIM = 1\n",
    "DROPOUT = 0.5\n",
    "PAD_IDX = TEXT.vocab.stoi[TEXT.pad_token]\n",
    "\n",
    "cnn = CNN(INPUT_DIM, EMBEDDING_DIM, N_FILTERS, FILTER_SIZES, OUTPUT_DIM, DROPOUT, PAD_IDX)\n",
    "\n",
    "pretrained_embeddings = TEXT.vocab.vectors\n",
    "\n",
    "cnn.embedding.weight.data.copy_(pretrained_embeddings)\n",
    "\n",
    "UNK_IDX = TEXT.vocab.stoi[TEXT.unk_token]\n",
    "\n",
    "cnn.embedding.weight.data[UNK_IDX] = torch.zeros(EMBEDDING_DIM)\n",
    "cnn.embedding.weight.data[PAD_IDX] = torch.zeros(EMBEDDING_DIM)"
   ]
  },
  {
   "cell_type": "code",
   "execution_count": 16,
   "metadata": {
    "id": "RQZ8RK9uHPJE"
   },
   "outputs": [],
   "source": [
    "import torch.optim as optim\n",
    "\n",
    "optimizer = optim.Adam(cnn.parameters())\n",
    "\n",
    "criterion = nn.BCEWithLogitsLoss()\n",
    "\n",
    "cnn = cnn.to(device)\n",
    "criterion = criterion.to(device)"
   ]
  },
  {
   "cell_type": "code",
   "execution_count": 17,
   "metadata": {
    "colab": {
     "base_uri": "https://localhost:8080/"
    },
    "id": "UcpSzmlSHPJE",
    "outputId": "cc05b377-0883-4af4-afbd-577a3baeff83",
    "scrolled": true
   },
   "outputs": [
    {
     "name": "stdout",
     "output_type": "stream",
     "text": [
      "Epoch: 1\n",
      "Train Loss: 0.5215374873744116\n",
      "Train Acc: 80.81981529096342\n",
      "Train F1: 80.24918628346424\n",
      "Val. Loss: 0.3276472923002745\n",
      "Val. Acc: 86.7142269736842\n",
      "Val. F1: 86.6750304316254\n",
      "Epoch: 2\n",
      "Train Loss: 0.32958678868081837\n",
      "Train Acc: 86.5363978990858\n",
      "Train F1: 86.34923935379986\n",
      "Val. Loss: 0.3046166802707471\n",
      "Val. Acc: 87.8374954609535\n",
      "Val. F1: 87.85769656696722\n",
      "Epoch: 3\n",
      "Train Loss: 0.29064428077803717\n",
      "Train Acc: 88.36043534634317\n",
      "Train F1: 88.21915630867922\n",
      "Val. Loss: 0.2957456127593392\n",
      "Val. Acc: 88.23539495044429\n",
      "Val. F1: 88.16649215416878\n",
      "Epoch: 4\n",
      "Train Loss: 0.2650178482135137\n",
      "Train Acc: 89.53419754307315\n",
      "Train F1: 89.40856913760705\n",
      "Val. Loss: 0.28961811881316335\n",
      "Val. Acc: 88.69447945146959\n",
      "Val. F1: 88.58763090390471\n",
      "Epoch: 5\n",
      "Train Loss: 0.24404809772968292\n",
      "Train Acc: 90.47760636427567\n",
      "Train F1: 90.37452208696944\n",
      "Val. Loss: 0.2839358809747194\n",
      "Val. Acc: 88.848345117054\n",
      "Val. F1: 88.9293453060961\n",
      "Epoch: 6\n",
      "Train Loss: 0.22673902842733595\n",
      "Train Acc: 91.24186060566105\n",
      "Train F1: 91.15717588782188\n",
      "Val. Loss: 0.28655996761823954\n",
      "Val. Acc: 88.85605482100136\n",
      "Val. F1: 88.60466551838373\n",
      "Epoch: 7\n",
      "Train Loss: 0.21203526622719235\n",
      "Train Acc: 92.00004120516878\n",
      "Train F1: 91.89717515656027\n",
      "Val. Loss: 0.27925749672086614\n",
      "Val. Acc: 89.22786947838345\n",
      "Val. F1: 89.20744835260376\n",
      "Epoch: 8\n",
      "Train Loss: 0.19072199397616915\n",
      "Train Acc: 92.92684434335443\n",
      "Train F1: 92.85580125888615\n",
      "Val. Loss: 0.2782881259918213\n",
      "Val. Acc: 89.20140683740601\n",
      "Val. F1: 89.21266524858567\n",
      "Epoch: 9\n",
      "Train Loss: 0.17594557338290745\n",
      "Train Acc: 93.42991550193389\n",
      "Train F1: 93.3517112698161\n",
      "Val. Loss: 0.2814643351655257\n",
      "Val. Acc: 89.10276534731715\n",
      "Val. F1: 89.1375441594256\n",
      "Epoch: 10\n",
      "Train Loss: 0.15837117168638443\n",
      "Train Acc: 94.21847804588607\n",
      "Train F1: 94.1494405186162\n",
      "Val. Loss: 0.28519027327236374\n",
      "Val. Acc: 89.10823356331169\n",
      "Val. F1: 89.03070321219175\n"
     ]
    }
   ],
   "source": [
    "N_EPOCHS = 10\n",
    "\n",
    "best_valid_f1 = 0\n",
    "\n",
    "for epoch in range(N_EPOCHS):\n",
    "    \n",
    "    train_loss, train_acc, train_f1 = train_cnn(cnn, train_iterator, optimizer, criterion)\n",
    "    valid_loss, valid_acc, valid_f1 = evaluate_cnn(cnn, valid_iterator, criterion)\n",
    "    \n",
    "    if valid_f1 > best_valid_f1:\n",
    "        best_valid_f1 = valid_f1\n",
    "        torch.save(cnn.state_dict(), 'CNN-model.pt')\n",
    "    \n",
    "    print('Epoch:',epoch+1)\n",
    "    print('Train Loss:',train_loss)\n",
    "    print('Train Acc:',train_acc*100)\n",
    "    print('Train F1:',train_f1*100)\n",
    "    print('Val. Loss:',valid_loss) \n",
    "    print('Val. Acc:',valid_acc*100)\n",
    "    print('Val. F1:',valid_f1*100)"
   ]
  },
  {
   "cell_type": "code",
   "execution_count": 18,
   "metadata": {
    "id": "URNHE6CmHPJF"
   },
   "outputs": [],
   "source": [
    "def predict(model, sentence, min_len = 5):\n",
    "    model.eval()\n",
    "    if len(sentence) < min_len:\n",
    "        sentence += ['<pad>'] * (min_len - len(sentence))\n",
    "    indexed = [TEXT.vocab.stoi[t] for t in sentence]\n",
    "    tensor = torch.LongTensor(indexed).to(device)\n",
    "    tensor = tensor.unsqueeze(1)\n",
    "    prediction = torch.sigmoid(model(tensor)).item()\n",
    "    if prediction >= 0.5:\n",
    "        idx = 1\n",
    "    else:\n",
    "        idx = 0\n",
    "    return idx"
   ]
  },
  {
   "cell_type": "code",
   "execution_count": 19,
   "metadata": {
    "colab": {
     "base_uri": "https://localhost:8080/"
    },
    "id": "Z6BU0KWRHPJF",
    "outputId": "2b93b721-4cdb-4991-8c03-d47b66a19f50"
   },
   "outputs": [
    {
     "name": "stdout",
     "output_type": "stream",
     "text": [
      "0.8907004083653013\n",
      "0.8906959610776845\n"
     ]
    }
   ],
   "source": [
    "torch.cuda.empty_cache()\n",
    "cnn.load_state_dict(torch.load('CNN-model.pt'))\n",
    "correct = 0\n",
    "total = 0\n",
    "preds = []\n",
    "labels = []\n",
    "for e in test_data.examples:\n",
    "    pred = predict(cnn, e.text)\n",
    "    preds.append(pred)\n",
    "    labels.append(LABEL.vocab.stoi[e.label])\n",
    "    if LABEL.vocab.stoi[e.label] == pred:\n",
    "        correct += 1\n",
    "    total += 1\n",
    "    \n",
    "f1 = f1_score(labels, preds, average='weighted')\n",
    "print(correct/total)\n",
    "print(f1)"
   ]
  },
  {
   "cell_type": "code",
   "execution_count": 23,
   "metadata": {
    "id": "H3oScJ2fYMNb"
   },
   "outputs": [],
   "source": [
    "from sklearn.metrics import confusion_matrix, cohen_kappa_score"
   ]
  },
  {
   "cell_type": "code",
   "execution_count": 24,
   "metadata": {
    "id": "NckShakJYZlo"
   },
   "outputs": [],
   "source": [
    "from sklearn.metrics import plot_confusion_matrix"
   ]
  },
  {
   "cell_type": "code",
   "execution_count": 26,
   "metadata": {
    "id": "4CtMyWpqYgxI"
   },
   "outputs": [],
   "source": [
    "import matplotlib.pyplot as plt"
   ]
  },
  {
   "cell_type": "code",
   "execution_count": 35,
   "metadata": {
    "id": "8_BpTWakY7es"
   },
   "outputs": [],
   "source": [
    "import numpy as np"
   ]
  },
  {
   "cell_type": "code",
   "execution_count": 36,
   "metadata": {
    "id": "5ziUmao_YZoB"
   },
   "outputs": [],
   "source": [
    "def plot_confusion_matrix(cm, classes,\n",
    "                          normalize=False,\n",
    "                          title='Confusion matrix',\n",
    "                          cmap=plt.cm.Blues):\n",
    "    \"\"\"\n",
    "    This function prints and plots the confusion matrix.\n",
    "    Normalization can be applied by setting `normalize=True`.\n",
    "    \"\"\"\n",
    "    import itertools\n",
    "    if normalize:\n",
    "        cm = cm.astype('float') / cm.sum(axis=1)[:, np.newaxis]\n",
    "        print(\"Normalized confusion matrix\")\n",
    "    else:\n",
    "        print('Confusion matrix, without normalization')\n",
    "\n",
    "    print(cm)\n",
    "\n",
    "    plt.imshow(cm, interpolation='nearest', cmap=cmap)\n",
    "    plt.title(title)\n",
    "    plt.colorbar()\n",
    "    tick_marks = np.arange(len(classes))\n",
    "    plt.xticks(tick_marks, classes, rotation=45)\n",
    "    plt.yticks(tick_marks, classes)\n",
    "\n",
    "    fmt = '.2f' if normalize else 'd'\n",
    "    thresh = cm.max() / 2.\n",
    "    for i, j in itertools.product(range(cm.shape[0]), range(cm.shape[1])):\n",
    "        plt.text(j, i, format(cm[i, j], fmt),\n",
    "                 horizontalalignment=\"center\",\n",
    "                 color=\"white\" if cm[i, j] > thresh else \"black\")\n",
    "\n",
    "    plt.ylabel('Actual')\n",
    "    plt.xlabel('Predicted')\n",
    "    plt.tight_layout()"
   ]
  },
  {
   "cell_type": "code",
   "execution_count": 38,
   "metadata": {
    "id": "ln9QengdYZqb"
   },
   "outputs": [],
   "source": [
    "cnf_matrix = confusion_matrix(labels, preds, labels=[0, 1])"
   ]
  },
  {
   "cell_type": "code",
   "execution_count": 39,
   "metadata": {
    "colab": {
     "base_uri": "https://localhost:8080/",
     "height": 348
    },
    "id": "Y_8dEfL6YZwE",
    "outputId": "e25dda66-ec01-4a9d-eb38-bb09eb3fbc07"
   },
   "outputs": [
    {
     "name": "stdout",
     "output_type": "stream",
     "text": [
      "Confusion matrix, without normalization\n",
      "[[14451  1575]\n",
      " [ 1958 14340]]\n"
     ]
    },
    {
     "data": {
      "image/png": "[encoded data removed]",
      "text/plain": [
       "<Figure size 432x288 with 2 Axes>"
      ]
     },
     "metadata": {
      "needs_background": "light",
      "tags": []
     },
     "output_type": "display_data"
    }
   ],
   "source": [
    "\n",
    "plt.grid(False)\n",
    "plot_confusion_matrix(cnf_matrix, classes=['sincere', 'insincere'], \n",
    "                      title='CNN Classifier: \\nConfusion matrix')"
   ]
  },
  {
   "cell_type": "code",
   "execution_count": 40,
   "metadata": {
    "colab": {
     "base_uri": "https://localhost:8080/"
    },
    "id": "ftWP8RntYmAJ",
    "outputId": "17d9778a-690a-4880-fbac-97cf6780dbaf"
   },
   "outputs": [
    {
     "name": "stdout",
     "output_type": "stream",
     "text": [
      "              precision    recall  f1-score   support\n",
      "\n",
      "     sincere       0.88      0.90      0.89     16026\n",
      "   insincere       0.90      0.88      0.89     16298\n",
      "\n",
      "    accuracy                           0.89     32324\n",
      "   macro avg       0.89      0.89      0.89     32324\n",
      "weighted avg       0.89      0.89      0.89     32324\n",
      "\n"
     ]
    }
   ],
   "source": [
    "from sklearn.metrics import classification_report as clsr\n",
    "print(clsr(labels, preds, target_names=['sincere', 'insincere']))"
   ]
  },
  {
   "cell_type": "code",
   "execution_count": 20,
   "metadata": {
    "id": "Qvg5DC7tHPJF"
   },
   "outputs": [],
   "source": [
    "def predict_class(model, sentence, min_len = 5):\n",
    "    model.eval()\n",
    "    tokenized = [tok for tok in tokenizer(sentence)]\n",
    "    if len(tokenized) < min_len:\n",
    "        tokenized += ['<pad>'] * (min_len - len(tokenized))\n",
    "    indexed = []\n",
    "    for t in tokenized:\n",
    "        if t in TEXT.vocab.stoi:\n",
    "            indexed.append(TEXT.vocab.stoi[t])\n",
    "        else:\n",
    "            indexed.append(0)\n",
    "    tensor = torch.LongTensor(indexed).to(device)\n",
    "    tensor = tensor.unsqueeze(1)\n",
    "    prediction = torch.sigmoid(model(tensor)).item()\n",
    "    if prediction >= 0.5:\n",
    "        idx = 1\n",
    "    else:\n",
    "        idx = 0\n",
    "    label = LABEL.vocab.itos[1]\n",
    "    if label == '1':\n",
    "        return \"{0}%\".format(prediction*100)\n",
    "    else:\n",
    "        return \"{0}%\".format((1-prediction)*100)"
   ]
  },
  {
   "cell_type": "code",
   "execution_count": 21,
   "metadata": {
    "colab": {
     "base_uri": "https://localhost:8080/",
     "height": 35
    },
    "id": "mWp1SDNuHPJF",
    "outputId": "a224c1ab-e379-4398-b166-65ebc3f97c9f"
   },
   "outputs": [
    {
     "data": {
      "application/vnd.google.colaboratory.intrinsic+json": {
       "type": "string"
      },
      "text/plain": [
       "'4.906708002090454%'"
      ]
     },
     "execution_count": 21,
     "metadata": {
      "tags": []
     },
     "output_type": "execute_result"
    }
   ],
   "source": [
    "predict_class(cnn, \"What?\")"
   ]
  },
  {
   "cell_type": "code",
   "execution_count": 22,
   "metadata": {
    "colab": {
     "base_uri": "https://localhost:8080/",
     "height": 35
    },
    "id": "Mxsg5TyiHPJF",
    "outputId": "cbd9af27-b27c-47a0-f4fa-6ca3fcd71c31"
   },
   "outputs": [
    {
     "data": {
      "application/vnd.google.colaboratory.intrinsic+json": {
       "type": "string"
      },
      "text/plain": [
       "\"cpu = torch.device('cpu')\\nmodel_cpu = model.to(cpu)\\ntorch.save(model_cpu.state_dict(), 'CNN-model-cpu.pt')\""
      ]
     },
     "execution_count": 22,
     "metadata": {
      "tags": []
     },
     "output_type": "execute_result"
    }
   ],
   "source": [
    "\"\"\"cpu = torch.device('cpu')\n",
    "model_cpu = model.to(cpu)\n",
    "torch.save(model_cpu.state_dict(), 'CNN-model-cpu.pt')\"\"\""
   ]
  },
  {
   "cell_type": "code",
   "execution_count": 22,
   "metadata": {
    "id": "rg3VkFmjHPJF"
   },
   "outputs": [],
   "source": []
  }
 ],
 "metadata": {
  "accelerator": "GPU",
  "colab": {
   "collapsed_sections": [],
   "name": "A6-CNN.ipynb",
   "provenance": []
  },
  "kernelspec": {
   "display_name": "Python 3",
   "language": "python",
   "name": "python3"
  },
  "language_info": {
   "codemirror_mode": {
    "name": "ipython",
    "version": 3
   },
   "file_extension": ".py",
   "mimetype": "text/x-python",
   "name": "python",
   "nbconvert_exporter": "python",
   "pygments_lexer": "ipython3",
   "version": "3.7.4"
  },
  "latex_envs": {
   "LaTeX_envs_menu_present": true,
   "autoclose": false,
   "autocomplete": true,
   "bibliofile": "biblio.bib",
   "cite_by": "apalike",
   "current_citInitial": 1,
   "eqLabelWithNumbers": true,
   "eqNumInitial": 1,
   "hotkeys": {
    "equation": "Ctrl-E",
    "itemize": "Ctrl-I"
   },
   "labels_anchors": false,
   "latex_user_defs": false,
   "report_style_numbering": false,
   "user_envs_cfg": false
  }
 },
 "nbformat": 4,
 "nbformat_minor": 1
}
